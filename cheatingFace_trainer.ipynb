{
 "metadata": {
  "language_info": {
   "codemirror_mode": {
    "name": "ipython",
    "version": 3
   },
   "file_extension": ".py",
   "mimetype": "text/x-python",
   "name": "python",
   "nbconvert_exporter": "python",
   "pygments_lexer": "ipython3",
   "version": "3.8.8"
  },
  "orig_nbformat": 2,
  "kernelspec": {
   "name": "python388jvsc74a57bd033a3111211be4281f3a8c4a9b25563b8d253df502c7e31f5318895c1792a97cb",
   "display_name": "Python 3.8.8 64-bit ('py38': conda)"
  }
 },
 "nbformat": 4,
 "nbformat_minor": 2,
 "cells": [
  {
   "source": [
    "# 1. Train Custom Model"
   ],
   "cell_type": "markdown",
   "metadata": {}
  },
  {
   "source": [
    "## 1-1. Read in Collected Data and Process"
   ],
   "cell_type": "markdown",
   "metadata": {}
  },
  {
   "cell_type": "code",
   "execution_count": 15,
   "metadata": {},
   "outputs": [],
   "source": [
    "import os\n",
    "import pandas as pd\n",
    "from sklearn.model_selection import train_test_split\n",
    "\n",
    "data_dir = \"data/csv/\"\n",
    "data_path = os.path.join(data_dir, 'coords.csv')\n",
    "\n",
    "model_dir = \"trained_model/ml/\"\n",
    "model_path = os.path.join(model_dir, 'face_estimator.pkl')"
   ]
  },
  {
   "cell_type": "code",
   "execution_count": 2,
   "metadata": {},
   "outputs": [],
   "source": [
    "Raw_data = pd.read_csv(data_path)"
   ]
  },
  {
   "cell_type": "code",
   "execution_count": 3,
   "metadata": {},
   "outputs": [
    {
     "output_type": "execute_result",
     "data": {
      "text/plain": [
       "   class        x1        y1        z1        v1        x2        y2  \\\n",
       "0  Cheat  0.573095  0.573762 -1.126435  0.999983  0.602292  0.484688   \n",
       "1  Cheat  0.568429  0.574003 -1.222315  0.999980  0.601604  0.490162   \n",
       "2  Cheat  0.568669  0.575570 -1.254395  0.999974  0.602680  0.492227   \n",
       "3  Cheat  0.569152  0.575719 -1.267661  0.999972  0.603756  0.492222   \n",
       "4  Cheat  0.571123  0.576281 -1.260970  0.999968  0.604641  0.492222   \n",
       "\n",
       "         z2        v2        x3  ...      z499  v499      x500      y500  \\\n",
       "0 -1.072092  0.999966  0.626610  ... -0.026210   0.0  0.648445  0.481979   \n",
       "1 -1.161438  0.999959  0.626068  ... -0.027023   0.0  0.649495  0.482035   \n",
       "2 -1.192295  0.999945  0.626835  ... -0.025951   0.0  0.649320  0.480081   \n",
       "3 -1.205576  0.999939  0.627551  ... -0.026457   0.0  0.649770  0.476933   \n",
       "4 -1.198091  0.999931  0.628456  ... -0.027370   0.0  0.649668  0.479976   \n",
       "\n",
       "       z500  v500      x501      y501      z501  v501  \n",
       "0 -0.004530   0.0  0.654291  0.473195 -0.004386   0.0  \n",
       "1 -0.005017   0.0  0.655139  0.473306 -0.004860   0.0  \n",
       "2 -0.003594   0.0  0.654881  0.471034 -0.003284   0.0  \n",
       "3 -0.003568   0.0  0.655150  0.469058 -0.003366   0.0  \n",
       "4 -0.006268   0.0  0.655100  0.471294 -0.006187   0.0  \n",
       "\n",
       "[5 rows x 2005 columns]"
      ],
      "text/html": "<div>\n<style scoped>\n    .dataframe tbody tr th:only-of-type {\n        vertical-align: middle;\n    }\n\n    .dataframe tbody tr th {\n        vertical-align: top;\n    }\n\n    .dataframe thead th {\n        text-align: right;\n    }\n</style>\n<table border=\"1\" class=\"dataframe\">\n  <thead>\n    <tr style=\"text-align: right;\">\n      <th></th>\n      <th>class</th>\n      <th>x1</th>\n      <th>y1</th>\n      <th>z1</th>\n      <th>v1</th>\n      <th>x2</th>\n      <th>y2</th>\n      <th>z2</th>\n      <th>v2</th>\n      <th>x3</th>\n      <th>...</th>\n      <th>z499</th>\n      <th>v499</th>\n      <th>x500</th>\n      <th>y500</th>\n      <th>z500</th>\n      <th>v500</th>\n      <th>x501</th>\n      <th>y501</th>\n      <th>z501</th>\n      <th>v501</th>\n    </tr>\n  </thead>\n  <tbody>\n    <tr>\n      <th>0</th>\n      <td>Cheat</td>\n      <td>0.573095</td>\n      <td>0.573762</td>\n      <td>-1.126435</td>\n      <td>0.999983</td>\n      <td>0.602292</td>\n      <td>0.484688</td>\n      <td>-1.072092</td>\n      <td>0.999966</td>\n      <td>0.626610</td>\n      <td>...</td>\n      <td>-0.026210</td>\n      <td>0.0</td>\n      <td>0.648445</td>\n      <td>0.481979</td>\n      <td>-0.004530</td>\n      <td>0.0</td>\n      <td>0.654291</td>\n      <td>0.473195</td>\n      <td>-0.004386</td>\n      <td>0.0</td>\n    </tr>\n    <tr>\n      <th>1</th>\n      <td>Cheat</td>\n      <td>0.568429</td>\n      <td>0.574003</td>\n      <td>-1.222315</td>\n      <td>0.999980</td>\n      <td>0.601604</td>\n      <td>0.490162</td>\n      <td>-1.161438</td>\n      <td>0.999959</td>\n      <td>0.626068</td>\n      <td>...</td>\n      <td>-0.027023</td>\n      <td>0.0</td>\n      <td>0.649495</td>\n      <td>0.482035</td>\n      <td>-0.005017</td>\n      <td>0.0</td>\n      <td>0.655139</td>\n      <td>0.473306</td>\n      <td>-0.004860</td>\n      <td>0.0</td>\n    </tr>\n    <tr>\n      <th>2</th>\n      <td>Cheat</td>\n      <td>0.568669</td>\n      <td>0.575570</td>\n      <td>-1.254395</td>\n      <td>0.999974</td>\n      <td>0.602680</td>\n      <td>0.492227</td>\n      <td>-1.192295</td>\n      <td>0.999945</td>\n      <td>0.626835</td>\n      <td>...</td>\n      <td>-0.025951</td>\n      <td>0.0</td>\n      <td>0.649320</td>\n      <td>0.480081</td>\n      <td>-0.003594</td>\n      <td>0.0</td>\n      <td>0.654881</td>\n      <td>0.471034</td>\n      <td>-0.003284</td>\n      <td>0.0</td>\n    </tr>\n    <tr>\n      <th>3</th>\n      <td>Cheat</td>\n      <td>0.569152</td>\n      <td>0.575719</td>\n      <td>-1.267661</td>\n      <td>0.999972</td>\n      <td>0.603756</td>\n      <td>0.492222</td>\n      <td>-1.205576</td>\n      <td>0.999939</td>\n      <td>0.627551</td>\n      <td>...</td>\n      <td>-0.026457</td>\n      <td>0.0</td>\n      <td>0.649770</td>\n      <td>0.476933</td>\n      <td>-0.003568</td>\n      <td>0.0</td>\n      <td>0.655150</td>\n      <td>0.469058</td>\n      <td>-0.003366</td>\n      <td>0.0</td>\n    </tr>\n    <tr>\n      <th>4</th>\n      <td>Cheat</td>\n      <td>0.571123</td>\n      <td>0.576281</td>\n      <td>-1.260970</td>\n      <td>0.999968</td>\n      <td>0.604641</td>\n      <td>0.492222</td>\n      <td>-1.198091</td>\n      <td>0.999931</td>\n      <td>0.628456</td>\n      <td>...</td>\n      <td>-0.027370</td>\n      <td>0.0</td>\n      <td>0.649668</td>\n      <td>0.479976</td>\n      <td>-0.006268</td>\n      <td>0.0</td>\n      <td>0.655100</td>\n      <td>0.471294</td>\n      <td>-0.006187</td>\n      <td>0.0</td>\n    </tr>\n  </tbody>\n</table>\n<p>5 rows × 2005 columns</p>\n</div>"
     },
     "metadata": {},
     "execution_count": 3
    }
   ],
   "source": [
    "Raw_data.head()"
   ]
  },
  {
   "cell_type": "code",
   "execution_count": 4,
   "metadata": {},
   "outputs": [],
   "source": [
    "X = Raw_data.drop(['class'], axis=1) # parse Features\n",
    "y = Raw_data['class'] # parse target value"
   ]
  },
  {
   "cell_type": "code",
   "execution_count": 6,
   "metadata": {},
   "outputs": [],
   "source": [
    "X_train, X_val, y_train, y_val = train_test_split(X, y, test_size=0.2, random_state=42, stratify=y)"
   ]
  },
  {
   "cell_type": "code",
   "execution_count": 7,
   "metadata": {},
   "outputs": [
    {
     "output_type": "execute_result",
     "data": {
      "text/plain": [
       "array(['noCheat', 'Cheat'], dtype=object)"
      ]
     },
     "metadata": {},
     "execution_count": 7
    }
   ],
   "source": [
    "y_train.unique()"
   ]
  },
  {
   "source": [
    "## 1-2. Train Models"
   ],
   "cell_type": "markdown",
   "metadata": {}
  },
  {
   "cell_type": "code",
   "execution_count": 8,
   "metadata": {},
   "outputs": [],
   "source": [
    "from sklearn.pipeline import make_pipeline\n",
    "from sklearn.preprocessing import StandardScaler\n",
    "from sklearn.linear_model import LogisticRegression, RidgeClassifier\n",
    "from sklearn.ensemble import RandomForestClassifier, GradientBoostingClassifier\n",
    "\n",
    "from tqdm import tqdm"
   ]
  },
  {
   "cell_type": "code",
   "execution_count": 11,
   "metadata": {},
   "outputs": [],
   "source": [
    "pipelines = {\n",
    "    'lr' : make_pipeline(StandardScaler(), LogisticRegression(max_iter=500)),\n",
    "    'rc' : make_pipeline(StandardScaler(), RidgeClassifier()),\n",
    "    'rf' : make_pipeline(StandardScaler(), RandomForestClassifier()),\n",
    "    'gb' : make_pipeline(StandardScaler(), GradientBoostingClassifier())\n",
    "}"
   ]
  },
  {
   "cell_type": "code",
   "execution_count": 12,
   "metadata": {},
   "outputs": [
    {
     "output_type": "stream",
     "name": "stderr",
     "text": [
      "100%|██████████| 4/4 [00:14<00:00,  3.71s/it]\n"
     ]
    }
   ],
   "source": [
    "fit_models = {}\n",
    "\n",
    "for algo, pipeline in tqdm(pipelines.items()):\n",
    "    model = pipeline.fit(X_train, y_train)\n",
    "    fit_models[algo] = model"
   ]
  },
  {
   "source": [
    "## 1-3. Evaluate and Serialize Model"
   ],
   "cell_type": "markdown",
   "metadata": {}
  },
  {
   "cell_type": "code",
   "execution_count": 13,
   "metadata": {},
   "outputs": [],
   "source": [
    "from sklearn.metrics import accuracy_score\n",
    "import pickle"
   ]
  },
  {
   "cell_type": "code",
   "execution_count": 14,
   "metadata": {},
   "outputs": [
    {
     "output_type": "stream",
     "name": "stderr",
     "text": [
      "100%|██████████| 4/4 [00:00<00:00, 38.78it/s]lr 1.0\n",
      "rc 1.0\n",
      "rf 1.0\n",
      "gb 0.9857142857142858\n",
      "\n"
     ]
    }
   ],
   "source": [
    "for algo, model in tqdm(fit_models.items()):\n",
    "    predict = model.predict(X_val)\n",
    "    print(algo, accuracy_score(y_val, predict))"
   ]
  },
  {
   "cell_type": "code",
   "execution_count": 16,
   "metadata": {},
   "outputs": [],
   "source": [
    "with open(model_path, 'wb') as f:\n",
    "    pickle.dump(fit_models['rf'], f)"
   ]
  }
 ]
}